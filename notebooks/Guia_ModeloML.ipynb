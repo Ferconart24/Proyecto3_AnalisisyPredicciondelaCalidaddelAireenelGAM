{
 "cells": [
  {
   "cell_type": "markdown",
   "id": "7a59034e",
   "metadata": {},
   "source": [
    "\n",
    "## Variables de entrada para las predicciones\n",
    "\n",
    "\n",
    "- `hora`\n",
    "- `flujo_vehicular`\n",
    "- `temperatura`\n",
    "- `humedad`\n",
    "- `viento`️\n",
    "- `pm10: Material particulado fino `  ️\n",
    "- `co: Monóxido de carbono` ️\n",
    "- `no2: Dióxido de nitrógeno`\n",
    "- `o3: Ozono a nivel del suelo` ️\n",
    "\n"
   ]
  },
  {
   "cell_type": "markdown",
   "id": "e3bddddc",
   "metadata": {},
   "source": [
    "\n",
    "## Interpretación de resultados\n",
    "\n",
    "- **Calidad del Aire** → predicción numérica de contaminación (ejemplo: 40.8).  \n",
    "- **Regresión (PM2.5)** → concentración estimada de partículas PM2.5.  \n",
    "- **Clasificación (ICA)** → categoría de calidad del aire:\n",
    "  - `Buena`: Aire limpio.\n",
    "  - `Moderada`: Aceptable.\n",
    "  - `Mala`: Riesgo.\n",
    "  - `Muy Mala`: Riesgo para toda la población.  \n"
   ]
  },
  {
   "metadata": {},
   "cell_type": "code",
   "outputs": [],
   "execution_count": null,
   "source": "",
   "id": "46b5f29e68fdbd7c"
  }
 ],
 "metadata": {},
 "nbformat": 4,
 "nbformat_minor": 5
}
