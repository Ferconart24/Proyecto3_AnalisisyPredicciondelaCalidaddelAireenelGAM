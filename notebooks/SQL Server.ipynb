{
 "cells": [
  {
   "metadata": {},
   "cell_type": "raw",
   "source": "",
   "id": "2872d1d690925449"
  },
  {
   "metadata": {},
   "cell_type": "markdown",
   "source": [
    "# Script SQL - Base de Datos ContaminacionAire\n",
    "\n",
    "```sql\n",
    "-- Crear la base de datos\n",
    "CREATE DATABASE ContaminacionAire;\n",
    "GO\n",
    "\n",
    "USE ContaminacionAire;\n",
    "GO\n",
    "\n",
    "-- Tabla de flujo vehicular\n",
    "CREATE TABLE FlujoVehicular (\n",
    "    id_flujo INT IDENTITY(1,1) PRIMARY KEY,\n",
    "    fecha DATE NOT NULL,\n",
    "    hora INT NOT NULL,\n",
    "    ubicacion VARCHAR(100) NOT NULL,\n",
    "    flujo_vehicular INT NOT NULL\n",
    ");\n",
    "\n",
    "-- Tabla de contaminantes\n",
    "CREATE TABLE Contaminantes (\n",
    "    id_contaminante INT IDENTITY(1,1) PRIMARY KEY,\n",
    "    fecha DATE NOT NULL,\n",
    "    hora INT NOT NULL,\n",
    "    pm2_5 FLOAT,\n",
    "    pm10 FLOAT,\n",
    "    co FLOAT,\n",
    "    no2 FLOAT,\n",
    "    o3 FLOAT\n",
    ");\n",
    "\n",
    "-- Tabla de clima\n",
    "CREATE TABLE Clima (\n",
    "    id_clima INT IDENTITY(1,1) PRIMARY KEY,\n",
    "    fecha DATE NOT NULL,\n",
    "    hora INT NOT NULL,\n",
    "    temperatura FLOAT,\n",
    "    humedad INT,\n",
    "    viento FLOAT,\n",
    "    precipitacion FLOAT\n",
    ");\n"
   ],
   "id": "4be6737951d9634b"
  },
  {
   "metadata": {},
   "cell_type": "markdown",
   "source": [
    "# Script SQL - Creacion de tabla unificada\n",
    "\n",
    "``` -- Crear tabla unificada\n",
    "CREATE TABLE TablaUnificada (\n",
    "    id INT IDENTITY(1,1) PRIMARY KEY,\n",
    "    fecha DATE NOT NULL,\n",
    "    hora INT NOT NULL,\n",
    "    ubicacion VARCHAR(100) NOT NULL,\n",
    "    flujo_vehicular INT NOT NULL,\n",
    "    pm2_5 FLOAT,\n",
    "    pm10 FLOAT,\n",
    "    co FLOAT,\n",
    "    no2 FLOAT,\n",
    "    o3 FLOAT,\n",
    "    temperatura FLOAT,\n",
    "    humedad INT,\n",
    "    viento FLOAT,\n",
    "    precipitacion FLOAT\n",
    ");"
   ],
   "id": "61ab7f54207da98d"
  },
  {
   "metadata": {},
   "cell_type": "code",
   "outputs": [],
   "execution_count": null,
   "source": "",
   "id": "4ff699c93b325a5"
  }
 ],
 "metadata": {
  "kernelspec": {
   "display_name": "Python 3",
   "language": "python",
   "name": "python3"
  },
  "language_info": {
   "codemirror_mode": {
    "name": "ipython",
    "version": 2
   },
   "file_extension": ".py",
   "mimetype": "text/x-python",
   "name": "python",
   "nbconvert_exporter": "python",
   "pygments_lexer": "ipython2",
   "version": "2.7.6"
  }
 },
 "nbformat": 4,
 "nbformat_minor": 5
}
