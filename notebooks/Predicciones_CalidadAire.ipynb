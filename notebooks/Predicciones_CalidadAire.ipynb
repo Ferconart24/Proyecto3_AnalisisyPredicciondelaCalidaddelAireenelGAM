{
 "cells": [
  {
   "cell_type": "markdown",
   "metadata": {},
   "source": [
    "### Prueba de Modelos de Calidad del Aire en el GAM\n",
    "\n",
    "Predicciones con los modelos entrenados:\n",
    "-  **Calidad del Aire**\n",
    "-  **Regresión (PM2.5)** → predice concentraciones de partículas finas.\n",
    "-  **Clasificación (ICA)** → indica si la calidad del aire es *Buena, Moderada, Mala o Muy Mala*."
   ],
   "id": "bb6884e45e045037"
  },
  {
   "cell_type": "code",
   "metadata": {
    "ExecuteTime": {
     "end_time": "2025-08-27T00:41:06.203805Z",
     "start_time": "2025-08-27T00:41:03.690622Z"
    }
   },
   "source": [
    "import joblib\n",
    "import pandas as pd\n",
    "from pathlib import Path\n",
    "\n",
    "# Ruta al directorio de modelos (ajustar si es necesario)\n",
    "project_root = Path().resolve().parents[0]  # raíz del proyecto\n",
    "model_dir = project_root / \"models\"\n",
    "\n",
    "# Cargar modelos entrenados\n",
    "modelo_calidad_aire = joblib.load(model_dir / \"modelo_calidad_aire.pkl\")\n",
    "modelo_regresion = joblib.load(model_dir / \"modelo_regresion.pkl\")\n",
    "modelo_clasificacion = joblib.load(model_dir / \"modelo_clasificacion.pkl\")\n",
    "\n",
    "print(\"✅ Modelos cargados correctamente\")"
   ],
   "id": "5cb43a59ffb1acb5",
   "outputs": [
    {
     "name": "stdout",
     "output_type": "stream",
     "text": [
      "✅ Modelos cargados correctamente\n"
     ]
    }
   ],
   "execution_count": 1
  },
  {
   "cell_type": "markdown",
   "metadata": {},
   "source": [
    "## Variables de entrada\n",
    "\n",
    "Los modelos utilizan las siguientes variables como entrada:\n",
    "\n",
    "- `hora`: hora del día (0-23).\n",
    "- `flujo_vehicular`: cantidad de vehículos en circulación.\n",
    "- `temperatura`: temperatura ambiental en °C.\n",
    "- `humedad`: porcentaje de humedad relativa.\n",
    "- `viento`: velocidad del viento (km/h).\n",
    "- `pm10`: concentración de partículas PM10 (µg/m³).\n",
    "- `co`: concentración de monóxido de carbono (ppm).\n",
    "- `no2`: concentración de dióxido de nitrógeno (ppb).\n",
    "- `o3`: concentración de ozono (ppb).\n",
    "\n"
   ],
   "id": "30a1b617fa1f0873"
  },
  {
   "cell_type": "code",
   "metadata": {
    "ExecuteTime": {
     "end_time": "2025-08-27T00:41:10.481642Z",
     "start_time": "2025-08-27T00:41:10.456056Z"
    }
   },
   "source": [
    "def probar_modelo(modelo, ejemplo, tipo):\n",
    "    # Ajustar columnas automáticamente\n",
    "    if hasattr(modelo, \"feature_names_in_\"):\n",
    "        for col in modelo.feature_names_in_:\n",
    "            if col not in ejemplo.columns:\n",
    "                ejemplo[col] = 0.0\n",
    "        ejemplo = ejemplo[modelo.feature_names_in_]\n",
    "\n",
    "    pred = modelo.predict(ejemplo)\n",
    "    print(f\"✅ {tipo} → Predicción: {pred[0]}\")\n",
    "    return pred[0]\n",
    "\n",
    "# Ejemplo de uso:\n",
    "ejemplo = pd.DataFrame([{\n",
    "    \"hora\": 12,\n",
    "    \"flujo_vehicular\": 1800,\n",
    "    \"temperatura\": 26.0,\n",
    "    \"humedad\": 70,\n",
    "    \"viento\": 7.0,\n",
    "    \"pm10\": 50.0,\n",
    "    \"co\": 1.0,\n",
    "    \"no2\": 80,\n",
    "    \"o3\": 100\n",
    "}])\n",
    "\n",
    "probar_modelo(modelo_calidad_aire, ejemplo, \"Calidad del Aire\")\n",
    "probar_modelo(modelo_regresion, ejemplo, \"Regresión (PM2.5)\")\n",
    "probar_modelo(modelo_clasificacion, ejemplo, \"Clasificación (ICA)\")"
   ],
   "id": "a0ecb165c0f39cf7",
   "outputs": [
    {
     "name": "stdout",
     "output_type": "stream",
     "text": [
      "✅ Calidad del Aire → Predicción: 40.807\n",
      "✅ Regresión (PM2.5) → Predicción: 42.923841549461585\n",
      "✅ Clasificación (ICA) → Predicción: Mala\n"
     ]
    },
    {
     "data": {
      "text/plain": [
       "'Mala'"
      ]
     },
     "execution_count": 2,
     "metadata": {},
     "output_type": "execute_result"
    }
   ],
   "execution_count": 2
  },
  {
   "cell_type": "markdown",
   "metadata": {},
   "source": [
    "## Interactivo: probar tus propios valores\n",
    "Modifica el diccionario `entrada_usuario` para explorar cómo cambian las predicciones."
   ],
   "id": "12909bbe140f1e2e"
  },
  {
   "cell_type": "code",
   "metadata": {
    "ExecuteTime": {
     "end_time": "2025-08-27T23:34:59.277904Z",
     "start_time": "2025-08-27T23:34:58.537253Z"
    }
   },
   "source": [
    "# Modifica estos valores para probar diferentes escenarios\n",
    "entrada_usuario = pd.DataFrame([{\n",
    "    \"hora\": 20,\n",
    "    \"flujo_vehicular\": 2500,\n",
    "    \"temperatura\": 28.0,\n",
    "    \"humedad\": 60,\n",
    "    \"viento\": 5.0,\n",
    "    \"pm10\": 90.0,\n",
    "    \"co\": 1.5,\n",
    "    \"no2\": 120,\n",
    "    \"o3\": 110\n",
    "}])\n",
    "\n",
    "print(\" Predicciones con tus valores:\")\n",
    "probar_modelo(modelo_calidad_aire, entrada_usuario, \"Calidad del Aire\")\n",
    "probar_modelo(modelo_regresion, entrada_usuario, \"Regresión (PM2.5)\")\n",
    "probar_modelo(modelo_clasificacion, entrada_usuario, \"Clasificación (ICA)\")"
   ],
   "id": "63d74e7f88be24ea",
   "outputs": [
    {
     "ename": "NameError",
     "evalue": "name 'pd' is not defined",
     "output_type": "error",
     "traceback": [
      "\u001B[31m---------------------------------------------------------------------------\u001B[39m",
      "\u001B[31mNameError\u001B[39m                                 Traceback (most recent call last)",
      "\u001B[36mCell\u001B[39m\u001B[36m \u001B[39m\u001B[32mIn[1]\u001B[39m\u001B[32m, line 2\u001B[39m\n\u001B[32m      1\u001B[39m \u001B[38;5;66;03m# Modifica estos valores para probar diferentes escenarios\u001B[39;00m\n\u001B[32m----> \u001B[39m\u001B[32m2\u001B[39m entrada_usuario = \u001B[43mpd\u001B[49m.DataFrame([{\n\u001B[32m      3\u001B[39m     \u001B[33m\"\u001B[39m\u001B[33mhora\u001B[39m\u001B[33m\"\u001B[39m: \u001B[32m20\u001B[39m,\n\u001B[32m      4\u001B[39m     \u001B[33m\"\u001B[39m\u001B[33mflujo_vehicular\u001B[39m\u001B[33m\"\u001B[39m: \u001B[32m2500\u001B[39m,\n\u001B[32m      5\u001B[39m     \u001B[33m\"\u001B[39m\u001B[33mtemperatura\u001B[39m\u001B[33m\"\u001B[39m: \u001B[32m28.0\u001B[39m,\n\u001B[32m      6\u001B[39m     \u001B[33m\"\u001B[39m\u001B[33mhumedad\u001B[39m\u001B[33m\"\u001B[39m: \u001B[32m60\u001B[39m,\n\u001B[32m      7\u001B[39m     \u001B[33m\"\u001B[39m\u001B[33mviento\u001B[39m\u001B[33m\"\u001B[39m: \u001B[32m5.0\u001B[39m,\n\u001B[32m      8\u001B[39m     \u001B[33m\"\u001B[39m\u001B[33mpm10\u001B[39m\u001B[33m\"\u001B[39m: \u001B[32m90.0\u001B[39m,\n\u001B[32m      9\u001B[39m     \u001B[33m\"\u001B[39m\u001B[33mco\u001B[39m\u001B[33m\"\u001B[39m: \u001B[32m1.5\u001B[39m,\n\u001B[32m     10\u001B[39m     \u001B[33m\"\u001B[39m\u001B[33mno2\u001B[39m\u001B[33m\"\u001B[39m: \u001B[32m120\u001B[39m,\n\u001B[32m     11\u001B[39m     \u001B[33m\"\u001B[39m\u001B[33mo3\u001B[39m\u001B[33m\"\u001B[39m: \u001B[32m110\u001B[39m\n\u001B[32m     12\u001B[39m }])\n\u001B[32m     14\u001B[39m \u001B[38;5;28mprint\u001B[39m(\u001B[33m\"\u001B[39m\u001B[33m Predicciones con tus valores:\u001B[39m\u001B[33m\"\u001B[39m)\n\u001B[32m     15\u001B[39m probar_modelo(modelo_calidad_aire, entrada_usuario, \u001B[33m\"\u001B[39m\u001B[33mCalidad del Aire\u001B[39m\u001B[33m\"\u001B[39m)\n",
      "\u001B[31mNameError\u001B[39m: name 'pd' is not defined"
     ]
    }
   ],
   "execution_count": 1
  },
  {
   "metadata": {},
   "cell_type": "code",
   "outputs": [],
   "execution_count": null,
   "source": "",
   "id": "92c6b98553cd97b2"
  }
 ],
 "metadata": {
  "kernelspec": {
   "display_name": "Python 3",
   "language": "python",
   "name": "python3"
  },
  "language_info": {
   "name": "python",
   "version": "3.10"
  }
 },
 "nbformat": 4,
 "nbformat_minor": 5
}
