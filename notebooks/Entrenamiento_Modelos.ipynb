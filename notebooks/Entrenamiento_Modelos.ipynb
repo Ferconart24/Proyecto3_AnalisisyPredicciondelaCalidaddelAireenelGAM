{
 "cells": [
  {
   "cell_type": "markdown",
   "metadata": {},
   "source": [
    "# (Regresión y Clasificación)\n",
    "- **Regresión**\n",
    "- **Clasificación**\n",
    "- **Ambos**\n"
   ],
   "id": "5999ebb09a769443"
  },
  {
   "cell_type": "code",
   "metadata": {
    "ExecuteTime": {
     "end_time": "2025-08-26T22:52:57.904026Z",
     "start_time": "2025-08-26T22:52:54.268072Z"
    }
   },
   "source": [
    "# ⚡ Entrenar REGRESIÓN (default)\n",
    "!python -m src.modelos.ModeloML"
   ],
   "id": "f2649681b9d3043d",
   "outputs": [
    {
     "name": "stdout",
     "output_type": "stream",
     "text": [
      "📊 Resultados regresión: {'Lineal': {'MSE': 477.1841687871939, 'R2': -0.02817139319405415}, 'KNN': {'MSE': 552.262112, 'R2': -0.18993910998031693}, 'Árbol': {'MSE': 938.6813999999999, 'R2': -1.0225427118764174}, 'RandomForest': {'MSE': 505.2923426500001, 'R2': -0.08873505429394779}}\n",
      "✅ Mejor regresor guardado en C:\\Users\\user\\OneDrive\\Desktop\\proyectofinal\\Proyecto3_AnalisisyPredicciondelaCalidaddelAireenelGAM\\models\\modelo_regresion.pkl\n"
     ]
    }
   ],
   "execution_count": 1
  },
  {
   "cell_type": "code",
   "metadata": {
    "ExecuteTime": {
     "end_time": "2025-08-26T22:53:01.416055Z",
     "start_time": "2025-08-26T22:52:58.234634Z"
    }
   },
   "source": [
    "# ⚡ Entrenar CLASIFICACIÓN\n",
    "!python -m src.modelos.ModeloML clasificacion"
   ],
   "id": "49dd8dd47b093c6f",
   "outputs": [
    {
     "name": "stdout",
     "output_type": "stream",
     "text": [
      "📊 Resultados clasificación: {'Logística': {'Accuracy': 0.275, 'F1': 0.19956588927376973}, 'KNN': {'Accuracy': 0.285, 'F1': 0.24229008444684275}, 'Árbol': {'Accuracy': 0.31, 'F1': 0.28346203346203347}, 'RandomForest': {'Accuracy': 0.31, 'F1': 0.24296853244221664}}\n",
      "✅ Mejor clasificador guardado en C:\\Users\\user\\OneDrive\\Desktop\\proyectofinal\\Proyecto3_AnalisisyPredicciondelaCalidaddelAireenelGAM\\models\\modelo_clasificacion.pkl\n"
     ]
    }
   ],
   "execution_count": 2
  },
  {
   "cell_type": "code",
   "metadata": {
    "ExecuteTime": {
     "end_time": "2025-08-26T22:53:05.384730Z",
     "start_time": "2025-08-26T22:53:01.462797Z"
    }
   },
   "source": [
    "# ⚡ Entrenar AMBOS (Regresión + Clasificación)\n",
    "!python -m src.modelos.ModeloML ambos"
   ],
   "id": "ab8378f1a1cf6a2d",
   "outputs": [
    {
     "name": "stdout",
     "output_type": "stream",
     "text": [
      "📊 Resultados regresión: {'Lineal': {'MSE': 477.1841687871939, 'R2': -0.02817139319405415}, 'KNN': {'MSE': 552.262112, 'R2': -0.18993910998031693}, 'Árbol': {'MSE': 934.00535, 'R2': -1.012467396814385}, 'RandomForest': {'MSE': 505.2923426500001, 'R2': -0.08873505429394779}}\n",
      "✅ Mejor regresor guardado en C:\\Users\\user\\OneDrive\\Desktop\\proyectofinal\\Proyecto3_AnalisisyPredicciondelaCalidaddelAireenelGAM\\models\\modelo_regresion.pkl\n",
      "📊 Resultados clasificación: {'Logística': {'Accuracy': 0.275, 'F1': 0.19956588927376973}, 'KNN': {'Accuracy': 0.285, 'F1': 0.24229008444684275}, 'Árbol': {'Accuracy': 0.325, 'F1': 0.28798228224940425}, 'RandomForest': {'Accuracy': 0.31, 'F1': 0.24296853244221664}}\n",
      "✅ Mejor clasificador guardado en C:\\Users\\user\\OneDrive\\Desktop\\proyectofinal\\Proyecto3_AnalisisyPredicciondelaCalidaddelAireenelGAM\\models\\modelo_clasificacion.pkl\n"
     ]
    }
   ],
   "execution_count": 3
  }
 ],
 "metadata": {
  "kernelspec": {
   "display_name": "Python 3",
   "language": "python",
   "name": "python3"
  },
  "language_info": {
   "name": "python",
   "version": "3.10"
  }
 },
 "nbformat": 4,
 "nbformat_minor": 5
}
